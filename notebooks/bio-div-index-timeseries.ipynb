{
 "cells": [
  {
   "cell_type": "markdown",
   "id": "4fdce80e-6407-4e42-b361-0199c27f3ce7",
   "metadata": {},
   "source": [
    "# Analyzing environmental impacts of urban expansion in Phoeniz, Arizona (2017-2020)\n",
    "Author: Kat Le\n",
    "\n",
    "\n",
    "## About\n",
    "\n",
    "\n",
    "## Highlights\n",
    "\n",
    "\n",
    "## Data\n",
    "2020 Tiger/Line shapefiles: https://www.census.gov/cgi-bin/geo/shapefiles/index.php?year=2020&layergroup=County+Subdivisions\n",
    "\n",
    "\n"
   ]
  },
  {
   "cell_type": "code",
   "execution_count": 1,
   "id": "e7ab5582-2964-4b9d-8c1e-fe1f79aadc06",
   "metadata": {
    "tags": []
   },
   "outputs": [],
   "source": [
    "import pandas as pd\n",
    "import numpy as np\n",
    "import matplotlib.pyplot as plt\n",
    "import geopandas as gpd\n",
    "import rioxarray as rioxr\n",
    "from shapely.geometry import box\n",
    "import contextily as ctx\n",
    "from geogif import gif\n",
    "import pystac_client\n",
    "import stackstac\n",
    "\n",
    "from pystac_client import Client # To access STAC catalogues\n",
    "\n",
    "import planetary_computer # To sign items from MPC STAC Catalogue\n",
    "\n",
    "from IPython.display import Image"
   ]
  },
  {
   "cell_type": "markdown",
   "id": "a84abd67-f210-4cf4-9402-d8ba5d01eee4",
   "metadata": {},
   "source": [
    "### Preliminary exploration of Phoenix county spatial data\n"
   ]
  },
  {
   "cell_type": "code",
   "execution_count": 3,
   "id": "798a3a34-bab5-4379-97eb-8442a3a1ba75",
   "metadata": {
    "tags": []
   },
   "outputs": [],
   "source": [
    "phoenix = gpd.read_file(\"../data/phoenix.shp\")"
   ]
  },
  {
   "cell_type": "code",
   "execution_count": null,
   "id": "e746a727-2c5b-4e73-8c5f-c0685a72e618",
   "metadata": {
    "tags": []
   },
   "outputs": [],
   "source": [
    "phoenix = phoenix.to_crs(epsg=3857)"
   ]
  },
  {
   "cell_type": "code",
   "execution_count": null,
   "id": "b59f06f8-5f41-4bf2-8ce5-509a68459f0e",
   "metadata": {
    "tags": []
   },
   "outputs": [],
   "source": [
    "# Create the plot\n",
    "fig, ax = plt.subplots(figsize=(10, 10))\n",
    "\n",
    "# Turn off axis\n",
    "#ax.set_axis_off()\n",
    "\n",
    "# Plot the Phoenix data\n",
    "phoenix.plot(ax=ax, facecolor='none', edgecolor='blue', \n",
    "             alpha=1, linewidth=5, zorder=2)\n",
    "\n",
    "# Add a basemap from contextily \n",
    "# ctx.add_basemap(ax, source=ctx.providers.Esri.WorldImagery)\n",
    "ctx.add_basemap(ax, source=ctx.providers.Esri.WorldStreetMap)\n",
    "\n",
    "# Add title\n",
    "ax.set_title(\"Study Area: \\n Phoenix Subdivision in Maricopa County, Arizona\", size = 20)\n",
    "\n",
    "# Show plot\n",
    "plt.tight_layout()\n",
    "plt.show()"
   ]
  },
  {
   "cell_type": "markdown",
   "id": "6627d329-e97a-484b-b069-b99a3eb5aeaa",
   "metadata": {},
   "source": [
    "### Access Biodiverstiy Intactness Index\n",
    "We use the `Client` function from the `pystac_client` package to access the catalog:"
   ]
  },
  {
   "cell_type": "code",
   "execution_count": null,
   "id": "9ffd298e-d10d-4c52-bf3c-029093e0c1c7",
   "metadata": {},
   "outputs": [],
   "source": [
    "# Access MPC catalog\n",
    "catalog = pystac_client.Client.open(\n",
    "    \"https://planetarycomputer.microsoft.com/api/stac/v1\",\n",
    "    modifier=planetary_computer.sign_inplace,\n",
    ")"
   ]
  },
  {
   "cell_type": "code",
   "execution_count": null,
   "id": "9237137b-1887-4a58-a44c-32b0ca96ee80",
   "metadata": {},
   "outputs": [],
   "source": [
    "bbox_of_interest = [-112.826843, 32.974108, -111.184387, 33.863574]\n",
    "\n",
    "# Temporal range of interest\n",
    "time_range = \"2017-01-01/2020-01-01\"\n",
    "\n",
    "search = catalog.search(collections=[\"io-biodiversity\"], \n",
    "                        bbox=bbox_of_interest,\n",
    "                        datetime=time_range)\n",
    "\n",
    "# Retrieve items\n",
    "items = search.item_collection()\n",
    "len(items)\n"
   ]
  },
  {
   "cell_type": "code",
   "execution_count": null,
   "id": "a1b2b5b3-2474-429b-90dd-3e04c4e41798",
   "metadata": {},
   "outputs": [],
   "source": [
    "stack = (\n",
    "    stackstac.stack(items, bounds_latlon=bbox_of_interest, assets=[\"data\"])\n",
    "    .assign_coords(\n",
    "        time=pd.to_datetime([item.properties[\"start_datetime\"] for item in items]).year\n",
    "        .to_numpy()\n",
    "    )\n",
    "    .sortby(\"time\")\n",
    ")\n",
    "stack.name = \"Biodiversity Intactness\"\n",
    "stack"
   ]
  },
  {
   "cell_type": "code",
   "execution_count": null,
   "id": "a06ab13a-c193-470c-8022-1327dcaa8300",
   "metadata": {},
   "outputs": [],
   "source": [
    "bii = stack.squeeze().compute()"
   ]
  },
  {
   "cell_type": "code",
   "execution_count": null,
   "id": "c81a4837-823e-4e38-97bd-a706cf00461d",
   "metadata": {
    "tags": []
   },
   "outputs": [],
   "source": [
    "bii = bii.rio.reproject(phoenix.crs)"
   ]
  },
  {
   "cell_type": "code",
   "execution_count": null,
   "id": "bb5f34f1-d401-465e-91ce-101ee2bf28b4",
   "metadata": {
    "tags": []
   },
   "outputs": [],
   "source": [
    "assert bii.rio.crs == phoenix.crs"
   ]
  },
  {
   "cell_type": "code",
   "execution_count": null,
   "id": "200dc631-df66-4986-afe5-dc5875604de7",
   "metadata": {
    "tags": []
   },
   "outputs": [],
   "source": [
    "bii = bii.rio.clip(phoenix.geometry)"
   ]
  },
  {
   "cell_type": "code",
   "execution_count": null,
   "id": "1fefe937-ca2c-4097-adbf-91c90459c274",
   "metadata": {},
   "outputs": [],
   "source": [
    "# match crs to bii\n",
    "# phoenix = phoenix.to_crs(bii.rio.crs)"
   ]
  },
  {
   "cell_type": "code",
   "execution_count": null,
   "id": "157f386e-8049-4487-bc21-243b05598fd4",
   "metadata": {
    "tags": []
   },
   "outputs": [],
   "source": [
    "bii_2017 = bii.sel(time=2017)\n",
    "\n",
    "above75_2017 = (bii_2017 >= 0.75)\n",
    "above75_2017_count = above75_2017.sum().item()\n",
    "total_cells = bii_2017.shape[0]*bii_2017.shape[1]\n",
    "\n",
    "print(f\"BII 2017 - Percent area above 75: {round((above75_2017_count / total_cells)*100, 2)}%\")"
   ]
  },
  {
   "cell_type": "code",
   "execution_count": null,
   "id": "286ccedf-789d-40e0-b1e6-c9032ebe7e8b",
   "metadata": {
    "tags": []
   },
   "outputs": [],
   "source": [
    "bii_2020 = bii.sel(time=2020)\n",
    "\n",
    "above75_2020 = (bii_2020 >= 0.75)\n",
    "above75_2020_count = above75_2020.sum().item()\n",
    "total_cells = bii_2020.shape[0]*bii_2020.shape[1]\n",
    "\n",
    "print(f\"BII 2020 - Percent area above 75: {round((above75_2020_count / total_cells)*100, 2)}%\")"
   ]
  },
  {
   "cell_type": "code",
   "execution_count": null,
   "id": "8fa5cc33-5a8c-41a7-bafd-d1c6b95b1c2f",
   "metadata": {
    "tags": []
   },
   "outputs": [],
   "source": [
    "net_bii = above75_2020.astype(int) - above75_2017.astype(int)"
   ]
  },
  {
   "cell_type": "code",
   "execution_count": null,
   "id": "cfe845a0-6b04-4a87-ad1a-c379890645e1",
   "metadata": {
    "tags": []
   },
   "outputs": [],
   "source": [
    "np.unique(net_bii)"
   ]
  },
  {
   "cell_type": "code",
   "execution_count": null,
   "id": "f2f3c817-adb6-4e2c-9b62-f87c7a6a25e0",
   "metadata": {
    "tags": []
   },
   "outputs": [],
   "source": [
    "net_bii.plot()"
   ]
  },
  {
   "cell_type": "code",
   "execution_count": null,
   "id": "2bfdfb64-21f4-4a95-b926-531c184aebde",
   "metadata": {
    "tags": []
   },
   "outputs": [],
   "source": [
    "# # Create the plot\n",
    "# fig, ax = plt.subplots(figsize=(10, 10))\n",
    "\n",
    "# # Turn off axis\n",
    "# ax.set_axis_off()\n",
    "\n",
    "# # Add BII\n",
    "# bii_2020.plot(ax=ax)\n",
    "\n",
    "# # Add net BII\n",
    "# #net_bii.plot(ax=ax)\n",
    "\n",
    "# # Add title\n",
    "# ax.set_title(\"Study Area: \\n Phoenix County, Arizona\", size = 20)\n",
    "\n",
    "# # Show plot\n",
    "# plt.tight_layout()\n",
    "# plt.show()"
   ]
  }
 ],
 "metadata": {
  "kernelspec": {
   "display_name": "Anaconda 3 (EDS220)",
   "language": "python",
   "name": "eds220-env"
  },
  "language_info": {
   "codemirror_mode": {
    "name": "ipython",
    "version": 3
   },
   "file_extension": ".py",
   "mimetype": "text/x-python",
   "name": "python",
   "nbconvert_exporter": "python",
   "pygments_lexer": "ipython3",
   "version": "3.11.4"
  }
 },
 "nbformat": 4,
 "nbformat_minor": 5
}
